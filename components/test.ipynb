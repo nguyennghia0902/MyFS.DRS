{
 "cells": [
  {
   "cell_type": "code",
   "execution_count": 76,
   "metadata": {},
   "outputs": [],
   "source": [
    "import os, hashlib, sys"
   ]
  },
  {
   "cell_type": "code",
   "execution_count": 77,
   "metadata": {},
   "outputs": [],
   "source": [
    "salt_len = 1\n",
    "def hash_password(password, salt_len):\n",
    "    salt = os.urandom(salt_len)\n",
    "    hashed_password = hashlib.sha256(password.encode()).digest() + salt\n",
    "    return hashed_password.hex()\n",
    "def get_digest(password_hex, salt_len):\n",
    "    password_digest = bytes.fromhex(password_hex)\n",
    "    return password_digest[:len(password_digest) - salt_len]\n",
    "def validate_password(input, from_dir, salt_len):\n",
    "    hashed_password = hashlib.sha256(input.encode()).digest()\n",
    "    from_dir = get_digest(from_dir, salt_len)\n",
    "    if hashed_password == from_dir:\n",
    "        return True\n",
    "    return False"
   ]
  },
  {
   "cell_type": "code",
   "execution_count": 78,
   "metadata": {},
   "outputs": [
    {
     "name": "stdout",
     "output_type": "stream",
     "text": [
      "0ffe1abd1a08215353c233d6e009613e95eec4253832a761af28ff37ac5a150c75\n",
      "0ffe1abd1a08215353c233d6e009613e95eec4253832a761af28ff37ac5a150c75\n"
     ]
    },
    {
     "data": {
      "text/plain": [
       "16"
      ]
     },
     "execution_count": 78,
     "metadata": {},
     "output_type": "execute_result"
    }
   ],
   "source": [
    "oldpw = '1111'\n",
    "check = hash_password(oldpw, int(salt_len))\n",
    "print(check)\n",
    "sys.getsizeof(print(check))"
   ]
  },
  {
   "cell_type": "code",
   "execution_count": 79,
   "metadata": {},
   "outputs": [],
   "source": [
    "newpw = \"1111\"\n",
    "newpw_in_byte = bytes(hash_password(newpw, salt_len),'utf-8')\n",
    "pass_hashed = newpw_in_byte[:len(check)].decode()"
   ]
  },
  {
   "cell_type": "code",
   "execution_count": 80,
   "metadata": {},
   "outputs": [
    {
     "data": {
      "text/plain": [
       "True"
      ]
     },
     "execution_count": 80,
     "metadata": {},
     "output_type": "execute_result"
    }
   ],
   "source": [
    "validate_password(oldpw, pass_hashed, int(salt_len))"
   ]
  },
  {
   "cell_type": "code",
   "execution_count": 81,
   "metadata": {},
   "outputs": [
    {
     "name": "stdout",
     "output_type": "stream",
     "text": [
      "0ffe1abd1a08215353c233d6e009613e95eec4253832a761af28ff37ac5a150c38\n"
     ]
    },
    {
     "data": {
      "text/plain": [
       "16"
      ]
     },
     "execution_count": 81,
     "metadata": {},
     "output_type": "execute_result"
    }
   ],
   "source": [
    "sys.getsizeof(print(pass_hashed))"
   ]
  }
 ],
 "metadata": {
  "kernelspec": {
   "display_name": "Python 3",
   "language": "python",
   "name": "python3"
  },
  "language_info": {
   "codemirror_mode": {
    "name": "ipython",
    "version": 3
   },
   "file_extension": ".py",
   "mimetype": "text/x-python",
   "name": "python",
   "nbconvert_exporter": "python",
   "pygments_lexer": "ipython3",
   "version": "3.11.2"
  }
 },
 "nbformat": 4,
 "nbformat_minor": 2
}
